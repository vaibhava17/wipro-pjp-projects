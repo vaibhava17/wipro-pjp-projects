{
  "nbformat": 4,
  "nbformat_minor": 0,
  "metadata": {
    "colab": {
      "name": "ANITS PLACEMENTS 2022.ipynb",
      "provenance": [],
      "collapsed_sections": [
        "r0Ei6kLqhhFt",
        "czhP7POcfC5R",
        "G94CnYinh5to",
        "48N4dWQhuxGc",
        "3JUC4htox5KW",
        "8h0oUlQWyedK",
        "IQ_UIZuLyz0A",
        "AmbOdjvpzXTi",
        "5Tm5BzMy1zML",
        "ySwB7aKZ31zd"
      ]
    },
    "kernelspec": {
      "name": "python3",
      "display_name": "Python 3"
    },
    "language_info": {
      "name": "python"
    }
  },
  "cells": [
    {
      "cell_type": "markdown",
      "source": [
        "#IMPORTING LIBRARIES"
      ],
      "metadata": {
        "id": "Ok_HVKofvB8n"
      }
    },
    {
      "cell_type": "code",
      "source": [
        "import pandas as pd\n",
        "import numpy as np"
      ],
      "metadata": {
        "id": "tRm4MQdHu_qH"
      },
      "execution_count": null,
      "outputs": []
    },
    {
      "cell_type": "markdown",
      "source": [
        "#READING PDF FILES IN PYTHON"
      ],
      "metadata": {
        "id": "r0Ei6kLqhhFt"
      }
    },
    {
      "cell_type": "markdown",
      "source": [
        "https://blog.ineuron.ai/Read-tables-from-PDF-into-DataFrame-qNAkcOxxN3"
      ],
      "metadata": {
        "id": "jZBnrMFvghYg"
      }
    },
    {
      "cell_type": "markdown",
      "source": [
        "##EXPORT pdf tables to JSON, TSV, or CSV"
      ],
      "metadata": {
        "id": "oXJfFtzKhIiQ"
      }
    },
    {
      "cell_type": "markdown",
      "source": [
        "tabula-py has capability to convert not only DataFrame but also JSON, TSV, or CSV. You can set output format with output_format option.\n",
        "\n",
        "###Extracting tables from pdf file in json format\n",
        "**tabula.read_pdf(pdf_file_path, output_format=\"json\")**\n",
        "###You can convert from pdf file into JSON file\n",
        "**tabula.convert_into(pdf_file_path, \"pdf_json.json\", output_format=\"json\")**\n",
        "###Extracting pdf content in csv format and creating csv file\n",
        "**tabula.convert_into(pdf_file_path, \"pdf_csv.csv\", output_format=\"csv\", stream=True)**\n",
        "###Extracting pdf content in tsv format and creating tsv file\n",
        "**tabula.convert_into(pdf_file_path, \"pdf_tsv.tsv\", output_format=\"tsv\")**"
      ],
      "metadata": {
        "id": "fhl9QzC3giys"
      }
    },
    {
      "cell_type": "markdown",
      "source": [
        "#IMPORTING PDF FILES"
      ],
      "metadata": {
        "id": "czhP7POcfC5R"
      }
    },
    {
      "cell_type": "markdown",
      "source": [
        "pip install tabula-py"
      ],
      "metadata": {
        "id": "pXPMUWtHfBV6"
      }
    },
    {
      "cell_type": "code",
      "source": [
        "import tabula as tb\n",
        "\n",
        "data = tb.read_pdf(\"2018.pdf\",pages=\"all\")\n",
        "\n",
        "df=data[0]\n",
        "\n",
        "# df"
      ],
      "metadata": {
        "id": "F3IejvAMnzCO"
      },
      "execution_count": null,
      "outputs": []
    },
    {
      "cell_type": "code",
      "source": [
        "df1=pd.DataFrame()\n",
        "\n",
        "c=0\n",
        "for i in range(len(data)):\n",
        "  df2=data[c]\n",
        "  df1=pd.concat([df1,df2],ignore_index=True)\n",
        "  c+=1\n",
        "\n",
        "df1"
      ],
      "metadata": {
        "id": "68kO-RkZqtJl"
      },
      "execution_count": null,
      "outputs": []
    },
    {
      "cell_type": "code",
      "source": [
        "df1.info()"
      ],
      "metadata": {
        "id": "Psc9hMy76W4a"
      },
      "execution_count": null,
      "outputs": []
    },
    {
      "cell_type": "code",
      "source": [
        "df1.insert(4,\"YOP\",value=2018)"
      ],
      "metadata": {
        "id": "Zor2Ma_z52ym"
      },
      "execution_count": null,
      "outputs": []
    },
    {
      "cell_type": "code",
      "source": [
        "df1.info()"
      ],
      "metadata": {
        "id": "vOCljLcuiZHi"
      },
      "execution_count": null,
      "outputs": []
    },
    {
      "cell_type": "markdown",
      "source": [
        "#EXPORTING PDF FILE DATA TO AN EXCEL FILE"
      ],
      "metadata": {
        "id": "G94CnYinh5to"
      }
    },
    {
      "cell_type": "code",
      "source": [
        "df1.to_excel(\"2018_new.xlsx\")"
      ],
      "metadata": {
        "id": "csz2pR-enlKk"
      },
      "execution_count": null,
      "outputs": []
    },
    {
      "cell_type": "markdown",
      "source": [
        "#IMPORTING THE EXCEL FILES\n"
      ],
      "metadata": {
        "id": "48N4dWQhuxGc"
      }
    },
    {
      "cell_type": "code",
      "source": [
        "d1=pd.read_excel(\"2018_new.xlsx\",index_col=0)\n",
        "d2=pd.read_excel(\"2019_new.xlsx\",index_col=0)\n",
        "d3=pd.read_excel(\"2020_new.xlsx\",index_col=0)\n",
        "d4=pd.read_excel(\"2021_new.xlsx\",index_col=0)\n",
        "d5=pd.read_excel(\"2022_new.xlsx\",index_col=0)"
      ],
      "metadata": {
        "id": "3tIKbdR5uwit"
      },
      "execution_count": null,
      "outputs": []
    },
    {
      "cell_type": "code",
      "source": [
        "d1.info()\n",
        "d2.info()\n",
        "d3.info()\n",
        "d4.info()\n",
        "d5.info()"
      ],
      "metadata": {
        "id": "PtvwDokFvtih"
      },
      "execution_count": null,
      "outputs": []
    },
    {
      "cell_type": "code",
      "source": [
        "d5.columns"
      ],
      "metadata": {
        "id": "kqXLiFldxhRD"
      },
      "execution_count": null,
      "outputs": []
    },
    {
      "cell_type": "markdown",
      "source": [
        "#Dropping the Gender column from d5"
      ],
      "metadata": {
        "id": "3JUC4htox5KW"
      }
    },
    {
      "cell_type": "code",
      "source": [
        "d5.drop(\"Gender\",inplace=True,axis=1) #axis=1 or \"columns\" & axis=0 or \"rows\""
      ],
      "metadata": {
        "id": "NHhL3XEwxuXk"
      },
      "execution_count": null,
      "outputs": []
    },
    {
      "cell_type": "code",
      "source": [
        "d5.columns"
      ],
      "metadata": {
        "colab": {
          "base_uri": "https://localhost:8080/"
        },
        "id": "FPuQ3nQLyXrG",
        "outputId": "2a73cf3e-a7cf-460e-d63f-a348b56c91f1"
      },
      "execution_count": null,
      "outputs": [
        {
          "output_type": "execute_result",
          "data": {
            "text/plain": [
              "Index(['Sl No', 'Regd No', 'Name of the Student', 'Branch', 'YOP',\n",
              "       'Name of the Companies', 'CTC (L.P.A)'],\n",
              "      dtype='object')"
            ]
          },
          "metadata": {},
          "execution_count": 159
        }
      ]
    },
    {
      "cell_type": "markdown",
      "source": [
        "#Renaming Columns"
      ],
      "metadata": {
        "id": "8h0oUlQWyedK"
      }
    },
    {
      "cell_type": "code",
      "source": [
        "d1.columns=d2.columns=d3.columns=d4.columns=d5.columns=[\"S.NO\",'Roll Number',\"Name\",\"Branch\",\"YOP\",\"Company\",\"CTC\"]"
      ],
      "metadata": {
        "id": "7bAcj01BwZAE"
      },
      "execution_count": null,
      "outputs": []
    },
    {
      "cell_type": "markdown",
      "source": [
        "#Combining data frames into a single dataframe"
      ],
      "metadata": {
        "id": "IQ_UIZuLyz0A"
      }
    },
    {
      "cell_type": "code",
      "source": [
        "new_df=pd.concat([d1,d2,d3,d4,d5],ignore_index=True)\n",
        "new_df"
      ],
      "metadata": {
        "colab": {
          "base_uri": "https://localhost:8080/"
        },
        "id": "IjFkW3hEwoiF",
        "outputId": "f99e32c4-a79f-4ca8-b35a-3228bbabed49"
      },
      "execution_count": null,
      "outputs": [
        {
          "output_type": "execute_result",
          "data": {
            "text/plain": [
              "      S.NO   Roll Number                            Name         Branch   YOP  \\\n",
              "0        1  314126502002                    Allu Avinash  B.Tech - Chem  2018   \n",
              "1        2  314126502004          Balivada Anusha Saroja  B.Tech - Chem  2018   \n",
              "2        3  314126502005                  Chukka Bhaskar  B.Tech - Chem  2018   \n",
              "3        4  314126502012                K. Yamini Swetha  B.Tech - Chem  2018   \n",
              "4        5  314126502016             Nandigam Ram Prasad  B.Tech - Chem  2018   \n",
              "...    ...           ...                             ...            ...   ...   \n",
              "4593  1643  319126502L14         Mansoor  Hussain  Shaik           CHEM  2022   \n",
              "4594  1644  319126502L16  Narayana  Murthy  Yelamanchili           CHEM  2022   \n",
              "4595  1645  319126502L17      Mutyala  Naidu  Kothalanka           CHEM  2022   \n",
              "4596  1646  319126502L19            Efraim   Devarapalli           CHEM  2022   \n",
              "4597  1647  318126508039         Prasad Bhanu Siraparapu          Civil  2022   \n",
              "\n",
              "                   Company        CTC  \n",
              "0               CONCENTRIX    2.00LPA  \n",
              "1             Amazon India  12.00 LPA  \n",
              "2     Deccan Fine Chemical    3.41LPA  \n",
              "3             Amazon India  12.00 LPA  \n",
              "4     Deccan Fine Chemical    3.41LPA  \n",
              "...                    ...        ...  \n",
              "4593                HETERO       2.19  \n",
              "4594                HETERO       2.19  \n",
              "4595                HETERO       2.19  \n",
              "4596                HETERO       2.19  \n",
              "4597              Rockeira       2.16  \n",
              "\n",
              "[4598 rows x 7 columns]"
            ],
            "text/html": [
              "\n",
              "  <div id=\"df-f28be47d-e08f-47f5-ac84-67fd3f49ab6f\">\n",
              "    <div class=\"colab-df-container\">\n",
              "      <div>\n",
              "<style scoped>\n",
              "    .dataframe tbody tr th:only-of-type {\n",
              "        vertical-align: middle;\n",
              "    }\n",
              "\n",
              "    .dataframe tbody tr th {\n",
              "        vertical-align: top;\n",
              "    }\n",
              "\n",
              "    .dataframe thead th {\n",
              "        text-align: right;\n",
              "    }\n",
              "</style>\n",
              "<table border=\"1\" class=\"dataframe\">\n",
              "  <thead>\n",
              "    <tr style=\"text-align: right;\">\n",
              "      <th></th>\n",
              "      <th>S.NO</th>\n",
              "      <th>Roll Number</th>\n",
              "      <th>Name</th>\n",
              "      <th>Branch</th>\n",
              "      <th>YOP</th>\n",
              "      <th>Company</th>\n",
              "      <th>CTC</th>\n",
              "    </tr>\n",
              "  </thead>\n",
              "  <tbody>\n",
              "    <tr>\n",
              "      <th>0</th>\n",
              "      <td>1</td>\n",
              "      <td>314126502002</td>\n",
              "      <td>Allu Avinash</td>\n",
              "      <td>B.Tech - Chem</td>\n",
              "      <td>2018</td>\n",
              "      <td>CONCENTRIX</td>\n",
              "      <td>2.00LPA</td>\n",
              "    </tr>\n",
              "    <tr>\n",
              "      <th>1</th>\n",
              "      <td>2</td>\n",
              "      <td>314126502004</td>\n",
              "      <td>Balivada Anusha Saroja</td>\n",
              "      <td>B.Tech - Chem</td>\n",
              "      <td>2018</td>\n",
              "      <td>Amazon India</td>\n",
              "      <td>12.00 LPA</td>\n",
              "    </tr>\n",
              "    <tr>\n",
              "      <th>2</th>\n",
              "      <td>3</td>\n",
              "      <td>314126502005</td>\n",
              "      <td>Chukka Bhaskar</td>\n",
              "      <td>B.Tech - Chem</td>\n",
              "      <td>2018</td>\n",
              "      <td>Deccan Fine Chemical</td>\n",
              "      <td>3.41LPA</td>\n",
              "    </tr>\n",
              "    <tr>\n",
              "      <th>3</th>\n",
              "      <td>4</td>\n",
              "      <td>314126502012</td>\n",
              "      <td>K. Yamini Swetha</td>\n",
              "      <td>B.Tech - Chem</td>\n",
              "      <td>2018</td>\n",
              "      <td>Amazon India</td>\n",
              "      <td>12.00 LPA</td>\n",
              "    </tr>\n",
              "    <tr>\n",
              "      <th>4</th>\n",
              "      <td>5</td>\n",
              "      <td>314126502016</td>\n",
              "      <td>Nandigam Ram Prasad</td>\n",
              "      <td>B.Tech - Chem</td>\n",
              "      <td>2018</td>\n",
              "      <td>Deccan Fine Chemical</td>\n",
              "      <td>3.41LPA</td>\n",
              "    </tr>\n",
              "    <tr>\n",
              "      <th>...</th>\n",
              "      <td>...</td>\n",
              "      <td>...</td>\n",
              "      <td>...</td>\n",
              "      <td>...</td>\n",
              "      <td>...</td>\n",
              "      <td>...</td>\n",
              "      <td>...</td>\n",
              "    </tr>\n",
              "    <tr>\n",
              "      <th>4593</th>\n",
              "      <td>1643</td>\n",
              "      <td>319126502L14</td>\n",
              "      <td>Mansoor  Hussain  Shaik</td>\n",
              "      <td>CHEM</td>\n",
              "      <td>2022</td>\n",
              "      <td>HETERO</td>\n",
              "      <td>2.19</td>\n",
              "    </tr>\n",
              "    <tr>\n",
              "      <th>4594</th>\n",
              "      <td>1644</td>\n",
              "      <td>319126502L16</td>\n",
              "      <td>Narayana  Murthy  Yelamanchili</td>\n",
              "      <td>CHEM</td>\n",
              "      <td>2022</td>\n",
              "      <td>HETERO</td>\n",
              "      <td>2.19</td>\n",
              "    </tr>\n",
              "    <tr>\n",
              "      <th>4595</th>\n",
              "      <td>1645</td>\n",
              "      <td>319126502L17</td>\n",
              "      <td>Mutyala  Naidu  Kothalanka</td>\n",
              "      <td>CHEM</td>\n",
              "      <td>2022</td>\n",
              "      <td>HETERO</td>\n",
              "      <td>2.19</td>\n",
              "    </tr>\n",
              "    <tr>\n",
              "      <th>4596</th>\n",
              "      <td>1646</td>\n",
              "      <td>319126502L19</td>\n",
              "      <td>Efraim   Devarapalli</td>\n",
              "      <td>CHEM</td>\n",
              "      <td>2022</td>\n",
              "      <td>HETERO</td>\n",
              "      <td>2.19</td>\n",
              "    </tr>\n",
              "    <tr>\n",
              "      <th>4597</th>\n",
              "      <td>1647</td>\n",
              "      <td>318126508039</td>\n",
              "      <td>Prasad Bhanu Siraparapu</td>\n",
              "      <td>Civil</td>\n",
              "      <td>2022</td>\n",
              "      <td>Rockeira</td>\n",
              "      <td>2.16</td>\n",
              "    </tr>\n",
              "  </tbody>\n",
              "</table>\n",
              "<p>4598 rows × 7 columns</p>\n",
              "</div>\n",
              "      <button class=\"colab-df-convert\" onclick=\"convertToInteractive('df-f28be47d-e08f-47f5-ac84-67fd3f49ab6f')\"\n",
              "              title=\"Convert this dataframe to an interactive table.\"\n",
              "              style=\"display:none;\">\n",
              "        \n",
              "  <svg xmlns=\"http://www.w3.org/2000/svg\" height=\"24px\"viewBox=\"0 0 24 24\"\n",
              "       width=\"24px\">\n",
              "    <path d=\"M0 0h24v24H0V0z\" fill=\"none\"/>\n",
              "    <path d=\"M18.56 5.44l.94 2.06.94-2.06 2.06-.94-2.06-.94-.94-2.06-.94 2.06-2.06.94zm-11 1L8.5 8.5l.94-2.06 2.06-.94-2.06-.94L8.5 2.5l-.94 2.06-2.06.94zm10 10l.94 2.06.94-2.06 2.06-.94-2.06-.94-.94-2.06-.94 2.06-2.06.94z\"/><path d=\"M17.41 7.96l-1.37-1.37c-.4-.4-.92-.59-1.43-.59-.52 0-1.04.2-1.43.59L10.3 9.45l-7.72 7.72c-.78.78-.78 2.05 0 2.83L4 21.41c.39.39.9.59 1.41.59.51 0 1.02-.2 1.41-.59l7.78-7.78 2.81-2.81c.8-.78.8-2.07 0-2.86zM5.41 20L4 18.59l7.72-7.72 1.47 1.35L5.41 20z\"/>\n",
              "  </svg>\n",
              "      </button>\n",
              "      \n",
              "  <style>\n",
              "    .colab-df-container {\n",
              "      display:flex;\n",
              "      flex-wrap:wrap;\n",
              "      gap: 12px;\n",
              "    }\n",
              "\n",
              "    .colab-df-convert {\n",
              "      background-color: #E8F0FE;\n",
              "      border: none;\n",
              "      border-radius: 50%;\n",
              "      cursor: pointer;\n",
              "      display: none;\n",
              "      fill: #1967D2;\n",
              "      height: 32px;\n",
              "      padding: 0 0 0 0;\n",
              "      width: 32px;\n",
              "    }\n",
              "\n",
              "    .colab-df-convert:hover {\n",
              "      background-color: #E2EBFA;\n",
              "      box-shadow: 0px 1px 2px rgba(60, 64, 67, 0.3), 0px 1px 3px 1px rgba(60, 64, 67, 0.15);\n",
              "      fill: #174EA6;\n",
              "    }\n",
              "\n",
              "    [theme=dark] .colab-df-convert {\n",
              "      background-color: #3B4455;\n",
              "      fill: #D2E3FC;\n",
              "    }\n",
              "\n",
              "    [theme=dark] .colab-df-convert:hover {\n",
              "      background-color: #434B5C;\n",
              "      box-shadow: 0px 1px 3px 1px rgba(0, 0, 0, 0.15);\n",
              "      filter: drop-shadow(0px 1px 2px rgba(0, 0, 0, 0.3));\n",
              "      fill: #FFFFFF;\n",
              "    }\n",
              "  </style>\n",
              "\n",
              "      <script>\n",
              "        const buttonEl =\n",
              "          document.querySelector('#df-f28be47d-e08f-47f5-ac84-67fd3f49ab6f button.colab-df-convert');\n",
              "        buttonEl.style.display =\n",
              "          google.colab.kernel.accessAllowed ? 'block' : 'none';\n",
              "\n",
              "        async function convertToInteractive(key) {\n",
              "          const element = document.querySelector('#df-f28be47d-e08f-47f5-ac84-67fd3f49ab6f');\n",
              "          const dataTable =\n",
              "            await google.colab.kernel.invokeFunction('convertToInteractive',\n",
              "                                                     [key], {});\n",
              "          if (!dataTable) return;\n",
              "\n",
              "          const docLinkHtml = 'Like what you see? Visit the ' +\n",
              "            '<a target=\"_blank\" href=https://colab.research.google.com/notebooks/data_table.ipynb>data table notebook</a>'\n",
              "            + ' to learn more about interactive tables.';\n",
              "          element.innerHTML = '';\n",
              "          dataTable['output_type'] = 'display_data';\n",
              "          await google.colab.output.renderOutput(dataTable, element);\n",
              "          const docLink = document.createElement('div');\n",
              "          docLink.innerHTML = docLinkHtml;\n",
              "          element.appendChild(docLink);\n",
              "        }\n",
              "      </script>\n",
              "    </div>\n",
              "  </div>\n",
              "  "
            ]
          },
          "metadata": {},
          "execution_count": 180
        }
      ]
    },
    {
      "cell_type": "markdown",
      "source": [
        "#Extracting new dataframe to excel"
      ],
      "metadata": {
        "id": "AmbOdjvpzXTi"
      }
    },
    {
      "cell_type": "code",
      "source": [
        "new_df.to_excel(\"ANITS PLACEMENTS CONSOLIDATED.xlsx\",index=False)"
      ],
      "metadata": {
        "id": "bs6SnJCvzbwj"
      },
      "execution_count": null,
      "outputs": []
    },
    {
      "cell_type": "markdown",
      "source": [
        "#CHANGING DATA TYPE OF \"ROLL NO\" COLUMN TO STR"
      ],
      "metadata": {
        "id": "5Tm5BzMy1zML"
      }
    },
    {
      "cell_type": "code",
      "source": [
        "new_data=pd.read_excel(\"ANITS PLACEMENTS CONSOLIDATED.xlsx\",dtype={'Roll Number' :str})"
      ],
      "metadata": {
        "id": "AkCJggbc0FqG"
      },
      "execution_count": null,
      "outputs": []
    },
    {
      "cell_type": "code",
      "source": [
        "new_data"
      ],
      "metadata": {
        "id": "-5nsBbQ53rS4"
      },
      "execution_count": null,
      "outputs": []
    },
    {
      "cell_type": "markdown",
      "source": [
        "# Using DataFrame.insert() to add a column\n",
        "**df.insert(2, \"Age\", [21, 23, 24, 21], True)**"
      ],
      "metadata": {
        "id": "ySwB7aKZ31zd"
      }
    },
    {
      "cell_type": "code",
      "source": [
        "new_data.insert(4,\"College\",value=\"ANITS\")"
      ],
      "metadata": {
        "id": "2E_efqjQ4MY6"
      },
      "execution_count": null,
      "outputs": []
    },
    {
      "cell_type": "code",
      "source": [
        "new_data.insert(5,\"Placement Status\",value=\"SELECTED\")"
      ],
      "metadata": {
        "id": "21WAOhgE5OFA"
      },
      "execution_count": null,
      "outputs": []
    },
    {
      "cell_type": "code",
      "source": [
        "new_data"
      ],
      "metadata": {
        "id": "k5rWKcPX4j4b"
      },
      "execution_count": null,
      "outputs": []
    },
    {
      "cell_type": "code",
      "source": [
        "new_data.columns"
      ],
      "metadata": {
        "id": "1D26DS0G885f"
      },
      "execution_count": null,
      "outputs": []
    },
    {
      "cell_type": "markdown",
      "source": [
        "#ALTERING THE COLUMNS"
      ],
      "metadata": {
        "id": "7ejAouRV8uh8"
      }
    },
    {
      "cell_type": "code",
      "source": [
        "# altering the DataFrame\n",
        "new_data = new_data[['S.NO','Roll Number', 'Name', 'Branch','College','YOP','Placement Status','Company','CTC']]"
      ],
      "metadata": {
        "id": "9ksFAlrw8tlL"
      },
      "execution_count": null,
      "outputs": []
    },
    {
      "cell_type": "code",
      "source": [
        "new_data.to_excel(\"ANITS PLACEMENTS CONSOLIDATED CLEANED.xlsx\",index=False)"
      ],
      "metadata": {
        "id": "5sZ9_pi90zP3"
      },
      "execution_count": null,
      "outputs": []
    }
  ]
}