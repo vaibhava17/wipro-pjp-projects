{
  "cells": [
    {
      "cell_type": "markdown",
      "source": [
        "#IMPORTING LIBRARIES 👇"
      ],
      "metadata": {
        "id": "tv2ZAVUCxCiD"
      }
    },
    {
      "cell_type": "code",
      "execution_count": null,
      "metadata": {
        "id": "FYthsCGhYnyz"
      },
      "outputs": [],
      "source": [
        "import pandas as pd\n",
        "import numpy as np\n",
        "import matplotlib.pyplot as mp\n",
        "import seaborn as sb\n",
        "import re"
      ]
    },
    {
      "cell_type": "markdown",
      "source": [
        "#READING EXCEL FILE 👇"
      ],
      "metadata": {
        "id": "rjYFkbjzw4fT"
      }
    },
    {
      "cell_type": "code",
      "source": [
        "data = pd.read_excel(\"RAGHU PLACEMENTS CONSOLIDATED.xlsx\",dtype={\"Roll Number\":str,\"Name\":str,\"Branch\":str,\"College\":str,\n",
        "                                                           \"YOP\":int,\"Placement Status\":str,\"COMPANY\":str})"
      ],
      "metadata": {
        "id": "Dj66SaYrtumX"
      },
      "execution_count": null,
      "outputs": []
    },
    {
      "cell_type": "code",
      "source": [
        "data"
      ],
      "metadata": {
        "colab": {
          "base_uri": "https://localhost:8080/",
          "height": 693
        },
        "id": "80E1LbYKK_Cz",
        "outputId": "2bf8c696-f690-454d-fc42-dc9319deb37f"
      },
      "execution_count": null,
      "outputs": [
        {
          "output_type": "execute_result",
          "data": {
            "text/plain": [
              "    Roll Number                         Name  \\\n",
              "0    18981a0310              ABISHEK BAGADHI   \n",
              "1    18981A0503              Aditi Choudhary   \n",
              "2    18981a0504        Aishwarya Devarasetty   \n",
              "3    18981a0426                    AJAY DADI   \n",
              "4    19985a0407         Akanksha Naidu Galla   \n",
              "..          ...                          ...   \n",
              "907  173J1A0564  KATTAMURI SAI SATYA SANJANA   \n",
              "908  173J1A0572          KRALETI RAGHAVENDRA   \n",
              "909  173J1A0575  KUTCHERLAPATI HIMA BHARGAVI   \n",
              "910  173J1A0580          MAHADASYAM PRIYANKA   \n",
              "911  173J1A0587               MATHA BHARGAVI   \n",
              "\n",
              "                                      Branch                        College  \\\n",
              "0                                 Mechanical      Raghu Engineering College   \n",
              "1                           Computer Science      Raghu Engineering College   \n",
              "2             Computer Science & Engineering      Raghu Engineering College   \n",
              "3    Electronics & Communication Engineering      Raghu Engineering College   \n",
              "4    Electronics & Communication Engineering      Raghu Engineering College   \n",
              "..                                       ...                            ...   \n",
              "907                                      CSE  Raghu Institute of Technology   \n",
              "908                                      CSE  Raghu Institute of Technology   \n",
              "909                                      CSE  Raghu Institute of Technology   \n",
              "910                                      CSE  Raghu Institute of Technology   \n",
              "911                                      CSE  Raghu Institute of Technology   \n",
              "\n",
              "      YOP Placement Status COMPANY  \n",
              "0    2022         SELECTED   WIPRO  \n",
              "1    2022         SELECTED   WIPRO  \n",
              "2    2022         SELECTED   WIPRO  \n",
              "3    2022         SELECTED   WIPRO  \n",
              "4    2022         SELECTED   WIPRO  \n",
              "..    ...              ...     ...  \n",
              "907  2021         SELECTED   CRMIT  \n",
              "908  2021         SELECTED   CRMIT  \n",
              "909  2021         SELECTED   CRMIT  \n",
              "910  2021         SELECTED   CRMIT  \n",
              "911  2021         SELECTED   CRMIT  \n",
              "\n",
              "[912 rows x 7 columns]"
            ],
            "text/html": [
              "\n",
              "  <div id=\"df-38588bc6-e467-4098-9f5f-cc40386a7125\">\n",
              "    <div class=\"colab-df-container\">\n",
              "      <div>\n",
              "<style scoped>\n",
              "    .dataframe tbody tr th:only-of-type {\n",
              "        vertical-align: middle;\n",
              "    }\n",
              "\n",
              "    .dataframe tbody tr th {\n",
              "        vertical-align: top;\n",
              "    }\n",
              "\n",
              "    .dataframe thead th {\n",
              "        text-align: right;\n",
              "    }\n",
              "</style>\n",
              "<table border=\"1\" class=\"dataframe\">\n",
              "  <thead>\n",
              "    <tr style=\"text-align: right;\">\n",
              "      <th></th>\n",
              "      <th>Roll Number</th>\n",
              "      <th>Name</th>\n",
              "      <th>Branch</th>\n",
              "      <th>College</th>\n",
              "      <th>YOP</th>\n",
              "      <th>Placement Status</th>\n",
              "      <th>COMPANY</th>\n",
              "    </tr>\n",
              "  </thead>\n",
              "  <tbody>\n",
              "    <tr>\n",
              "      <th>0</th>\n",
              "      <td>18981a0310</td>\n",
              "      <td>ABISHEK BAGADHI</td>\n",
              "      <td>Mechanical</td>\n",
              "      <td>Raghu Engineering College</td>\n",
              "      <td>2022</td>\n",
              "      <td>SELECTED</td>\n",
              "      <td>WIPRO</td>\n",
              "    </tr>\n",
              "    <tr>\n",
              "      <th>1</th>\n",
              "      <td>18981A0503</td>\n",
              "      <td>Aditi Choudhary</td>\n",
              "      <td>Computer Science</td>\n",
              "      <td>Raghu Engineering College</td>\n",
              "      <td>2022</td>\n",
              "      <td>SELECTED</td>\n",
              "      <td>WIPRO</td>\n",
              "    </tr>\n",
              "    <tr>\n",
              "      <th>2</th>\n",
              "      <td>18981a0504</td>\n",
              "      <td>Aishwarya Devarasetty</td>\n",
              "      <td>Computer Science &amp; Engineering</td>\n",
              "      <td>Raghu Engineering College</td>\n",
              "      <td>2022</td>\n",
              "      <td>SELECTED</td>\n",
              "      <td>WIPRO</td>\n",
              "    </tr>\n",
              "    <tr>\n",
              "      <th>3</th>\n",
              "      <td>18981a0426</td>\n",
              "      <td>AJAY DADI</td>\n",
              "      <td>Electronics &amp; Communication Engineering</td>\n",
              "      <td>Raghu Engineering College</td>\n",
              "      <td>2022</td>\n",
              "      <td>SELECTED</td>\n",
              "      <td>WIPRO</td>\n",
              "    </tr>\n",
              "    <tr>\n",
              "      <th>4</th>\n",
              "      <td>19985a0407</td>\n",
              "      <td>Akanksha Naidu Galla</td>\n",
              "      <td>Electronics &amp; Communication Engineering</td>\n",
              "      <td>Raghu Engineering College</td>\n",
              "      <td>2022</td>\n",
              "      <td>SELECTED</td>\n",
              "      <td>WIPRO</td>\n",
              "    </tr>\n",
              "    <tr>\n",
              "      <th>...</th>\n",
              "      <td>...</td>\n",
              "      <td>...</td>\n",
              "      <td>...</td>\n",
              "      <td>...</td>\n",
              "      <td>...</td>\n",
              "      <td>...</td>\n",
              "      <td>...</td>\n",
              "    </tr>\n",
              "    <tr>\n",
              "      <th>907</th>\n",
              "      <td>173J1A0564</td>\n",
              "      <td>KATTAMURI SAI SATYA SANJANA</td>\n",
              "      <td>CSE</td>\n",
              "      <td>Raghu Institute of Technology</td>\n",
              "      <td>2021</td>\n",
              "      <td>SELECTED</td>\n",
              "      <td>CRMIT</td>\n",
              "    </tr>\n",
              "    <tr>\n",
              "      <th>908</th>\n",
              "      <td>173J1A0572</td>\n",
              "      <td>KRALETI RAGHAVENDRA</td>\n",
              "      <td>CSE</td>\n",
              "      <td>Raghu Institute of Technology</td>\n",
              "      <td>2021</td>\n",
              "      <td>SELECTED</td>\n",
              "      <td>CRMIT</td>\n",
              "    </tr>\n",
              "    <tr>\n",
              "      <th>909</th>\n",
              "      <td>173J1A0575</td>\n",
              "      <td>KUTCHERLAPATI HIMA BHARGAVI</td>\n",
              "      <td>CSE</td>\n",
              "      <td>Raghu Institute of Technology</td>\n",
              "      <td>2021</td>\n",
              "      <td>SELECTED</td>\n",
              "      <td>CRMIT</td>\n",
              "    </tr>\n",
              "    <tr>\n",
              "      <th>910</th>\n",
              "      <td>173J1A0580</td>\n",
              "      <td>MAHADASYAM PRIYANKA</td>\n",
              "      <td>CSE</td>\n",
              "      <td>Raghu Institute of Technology</td>\n",
              "      <td>2021</td>\n",
              "      <td>SELECTED</td>\n",
              "      <td>CRMIT</td>\n",
              "    </tr>\n",
              "    <tr>\n",
              "      <th>911</th>\n",
              "      <td>173J1A0587</td>\n",
              "      <td>MATHA BHARGAVI</td>\n",
              "      <td>CSE</td>\n",
              "      <td>Raghu Institute of Technology</td>\n",
              "      <td>2021</td>\n",
              "      <td>SELECTED</td>\n",
              "      <td>CRMIT</td>\n",
              "    </tr>\n",
              "  </tbody>\n",
              "</table>\n",
              "<p>912 rows × 7 columns</p>\n",
              "</div>\n",
              "      <button class=\"colab-df-convert\" onclick=\"convertToInteractive('df-38588bc6-e467-4098-9f5f-cc40386a7125')\"\n",
              "              title=\"Convert this dataframe to an interactive table.\"\n",
              "              style=\"display:none;\">\n",
              "        \n",
              "  <svg xmlns=\"http://www.w3.org/2000/svg\" height=\"24px\"viewBox=\"0 0 24 24\"\n",
              "       width=\"24px\">\n",
              "    <path d=\"M0 0h24v24H0V0z\" fill=\"none\"/>\n",
              "    <path d=\"M18.56 5.44l.94 2.06.94-2.06 2.06-.94-2.06-.94-.94-2.06-.94 2.06-2.06.94zm-11 1L8.5 8.5l.94-2.06 2.06-.94-2.06-.94L8.5 2.5l-.94 2.06-2.06.94zm10 10l.94 2.06.94-2.06 2.06-.94-2.06-.94-.94-2.06-.94 2.06-2.06.94z\"/><path d=\"M17.41 7.96l-1.37-1.37c-.4-.4-.92-.59-1.43-.59-.52 0-1.04.2-1.43.59L10.3 9.45l-7.72 7.72c-.78.78-.78 2.05 0 2.83L4 21.41c.39.39.9.59 1.41.59.51 0 1.02-.2 1.41-.59l7.78-7.78 2.81-2.81c.8-.78.8-2.07 0-2.86zM5.41 20L4 18.59l7.72-7.72 1.47 1.35L5.41 20z\"/>\n",
              "  </svg>\n",
              "      </button>\n",
              "      \n",
              "  <style>\n",
              "    .colab-df-container {\n",
              "      display:flex;\n",
              "      flex-wrap:wrap;\n",
              "      gap: 12px;\n",
              "    }\n",
              "\n",
              "    .colab-df-convert {\n",
              "      background-color: #E8F0FE;\n",
              "      border: none;\n",
              "      border-radius: 50%;\n",
              "      cursor: pointer;\n",
              "      display: none;\n",
              "      fill: #1967D2;\n",
              "      height: 32px;\n",
              "      padding: 0 0 0 0;\n",
              "      width: 32px;\n",
              "    }\n",
              "\n",
              "    .colab-df-convert:hover {\n",
              "      background-color: #E2EBFA;\n",
              "      box-shadow: 0px 1px 2px rgba(60, 64, 67, 0.3), 0px 1px 3px 1px rgba(60, 64, 67, 0.15);\n",
              "      fill: #174EA6;\n",
              "    }\n",
              "\n",
              "    [theme=dark] .colab-df-convert {\n",
              "      background-color: #3B4455;\n",
              "      fill: #D2E3FC;\n",
              "    }\n",
              "\n",
              "    [theme=dark] .colab-df-convert:hover {\n",
              "      background-color: #434B5C;\n",
              "      box-shadow: 0px 1px 3px 1px rgba(0, 0, 0, 0.15);\n",
              "      filter: drop-shadow(0px 1px 2px rgba(0, 0, 0, 0.3));\n",
              "      fill: #FFFFFF;\n",
              "    }\n",
              "  </style>\n",
              "\n",
              "      <script>\n",
              "        const buttonEl =\n",
              "          document.querySelector('#df-38588bc6-e467-4098-9f5f-cc40386a7125 button.colab-df-convert');\n",
              "        buttonEl.style.display =\n",
              "          google.colab.kernel.accessAllowed ? 'block' : 'none';\n",
              "\n",
              "        async function convertToInteractive(key) {\n",
              "          const element = document.querySelector('#df-38588bc6-e467-4098-9f5f-cc40386a7125');\n",
              "          const dataTable =\n",
              "            await google.colab.kernel.invokeFunction('convertToInteractive',\n",
              "                                                     [key], {});\n",
              "          if (!dataTable) return;\n",
              "\n",
              "          const docLinkHtml = 'Like what you see? Visit the ' +\n",
              "            '<a target=\"_blank\" href=https://colab.research.google.com/notebooks/data_table.ipynb>data table notebook</a>'\n",
              "            + ' to learn more about interactive tables.';\n",
              "          element.innerHTML = '';\n",
              "          dataTable['output_type'] = 'display_data';\n",
              "          await google.colab.output.renderOutput(dataTable, element);\n",
              "          const docLink = document.createElement('div');\n",
              "          docLink.innerHTML = docLinkHtml;\n",
              "          element.appendChild(docLink);\n",
              "        }\n",
              "      </script>\n",
              "    </div>\n",
              "  </div>\n",
              "  "
            ]
          },
          "metadata": {},
          "execution_count": 4
        }
      ]
    },
    {
      "cell_type": "markdown",
      "source": [
        "#UNDERSTANDING DATA 👇"
      ],
      "metadata": {
        "id": "bd6UtrY81GlC"
      }
    },
    {
      "cell_type": "code",
      "source": [
        "data"
      ],
      "metadata": {
        "id": "tjrB2JMXH-8v"
      },
      "execution_count": null,
      "outputs": []
    },
    {
      "cell_type": "code",
      "source": [
        "data.shape"
      ],
      "metadata": {
        "colab": {
          "base_uri": "https://localhost:8080/"
        },
        "id": "qIwUD9Vf1UUf",
        "outputId": "9691e89d-4903-4af0-bc92-8254ab8aa8dc"
      },
      "execution_count": null,
      "outputs": [
        {
          "output_type": "execute_result",
          "data": {
            "text/plain": [
              "(836, 7)"
            ]
          },
          "metadata": {},
          "execution_count": 116
        }
      ]
    },
    {
      "cell_type": "code",
      "source": [
        "data.info()"
      ],
      "metadata": {
        "id": "EavibHsF1NEc"
      },
      "execution_count": null,
      "outputs": []
    },
    {
      "cell_type": "code",
      "source": [
        "data.describe()"
      ],
      "metadata": {
        "id": "xatrT4xH1Y6C"
      },
      "execution_count": null,
      "outputs": []
    },
    {
      "cell_type": "code",
      "source": [
        "data[\"Branch\"].describe()"
      ],
      "metadata": {
        "id": "mYfoz6Kv2Xdn"
      },
      "execution_count": null,
      "outputs": []
    },
    {
      "cell_type": "code",
      "source": [
        "data[\"Branch\"].count()"
      ],
      "metadata": {
        "id": "OQuLmB0L2aau"
      },
      "execution_count": null,
      "outputs": []
    },
    {
      "cell_type": "code",
      "source": [
        "unique_branches = data[\"Branch\"].unique()\n",
        "unique_branches\n",
        "# branches = {'Mechanical':\"Mech\"}\n"
      ],
      "metadata": {
        "colab": {
          "base_uri": "https://localhost:8080/"
        },
        "id": "mENghFH42fce",
        "outputId": "ee2f99ff-4b69-4894-88e6-8feb9c29dae2"
      },
      "execution_count": null,
      "outputs": [
        {
          "output_type": "execute_result",
          "data": {
            "text/plain": [
              "array(['Mechanical', 'Computer Science', 'Computer Science & Engineering',\n",
              "       'Electronics & Communication Engineering',\n",
              "       'Electrical & Electronics Engineering', 'Civil',\n",
              "       'Mechanical Engineering', nan,\n",
              "       'Electronics and Telecommunication Engineering',\n",
              "       'Civil Engineering', 'Electronics',\n",
              "       'Electronics & Electrical Communication Engineering', 'CIVIL',\n",
              "       'CSE', 'ECE', 'EEE', 'MECH', 'Mech'], dtype=object)"
            ]
          },
          "metadata": {},
          "execution_count": 189
        }
      ]
    },
    {
      "cell_type": "code",
      "source": [
        "dd=data[data[\"Branch\"].isna()].count() # OR isnull()\n",
        "dd"
      ],
      "metadata": {
        "colab": {
          "base_uri": "https://localhost:8080/"
        },
        "id": "I_JNE0Cz_Q6b",
        "outputId": "3a04a0d9-a422-446b-945a-c498332010ca"
      },
      "execution_count": null,
      "outputs": [
        {
          "output_type": "execute_result",
          "data": {
            "text/plain": [
              "Roll Number         44\n",
              "Name                44\n",
              "Branch               0\n",
              "College             44\n",
              "YOP                 44\n",
              "Placement Status    44\n",
              "COMPANY             44\n",
              "dtype: int64"
            ]
          },
          "metadata": {},
          "execution_count": 234
        }
      ]
    },
    {
      "cell_type": "markdown",
      "source": [
        "#CONVERTING lower-case CHARACTERS OF ROLL NUMBER TO UPPER-CASE 👇"
      ],
      "metadata": {
        "id": "QGaRW_35xlGe"
      }
    },
    {
      "cell_type": "markdown",
      "source": [
        "If you want to remove any white-space after a digit and capitalize all letters, you can use:\n",
        "\n",
        "**df['column'] = [re.sub('(\\\\d)\\\\s+', '\\\\1', (x.upper())) for x in df['column']]**\n",
        "\n",
        "\n",
        "**Explanation:**\n",
        "\n",
        "1) re.sub() - Does text replacement with regular expressions.\n",
        "\n",
        "2) (\\\\d)\\\\s+ - Selects a digit in a capture group, followed by one or more white spaces.\n",
        "\n",
        "3) \\\\1 - Replaces the above selection with only the selected digit, thus removing the white-space.\n",
        "\n",
        "4) x.upper() - Converts the strings to uppercase.\n",
        "\n",
        "OR\n",
        "\n",
        "You can use pandas apply function:\n",
        "\n",
        "**import re**\n",
        "\n",
        "**df = pd.DataFrame({'col': ['1 st ST', '10 th AV', 'Main st']})**\n",
        "\n",
        "**df.col.apply(lambda x: re.sub('(\\\\d)\\\\s+', '\\\\1', x).upper())**"
      ],
      "metadata": {
        "id": "zZlUjzZuyVsG"
      }
    },
    {
      "cell_type": "code",
      "execution_count": null,
      "metadata": {
        "id": "a3nNKKTlY49w"
      },
      "outputs": [],
      "source": [
        "for i in data[\"Roll Number\"]:\n",
        "  i=str(i)\n",
        "\n",
        "  data[\"Roll Number\"].replace(to_replace=i,value=i.upper(),inplace=True)\n",
        "\n",
        "  # data.replace(to_replace=i,value=re.sub('(\\d)\\s','\\1',i.upper()),inplace=True,regex=True)\n",
        "\n",
        "  # data.replace(to_replace=i,value=re.sub('(\\\\d)\\\\s+','\\\\1',i.upper()),inplace=True,regex=True)\n",
        "\n",
        "data\n"
      ]
    },
    {
      "cell_type": "markdown",
      "source": [
        "#BRANCH COLUMN 👇"
      ],
      "metadata": {
        "id": "wu1CroHGLzy9"
      }
    },
    {
      "cell_type": "code",
      "source": [
        "for i in data[\"Branch\"]:\n",
        "  i=str(i)\n",
        "  if i.startswith(\"M\"):\n",
        "    # i=i.replace(i,\"MECH\")\n",
        "    # print(i)\n",
        "    data[\"Branch\"].replace(to_replace=i,value=\"MECH\",inplace=True)\n",
        "\n",
        "  elif i.startswith(\"C\") and  \"L\" in i:\n",
        "    # i=i.replace(i,\"CIVIL\")\n",
        "    data[\"Branch\"].replace(to_replace=i,value=\"CIVIL\",inplace=True)\n",
        "\n",
        "  elif i.startswith(\"C\") and  \"S\" in i:\n",
        "      # i=i.replace(i,\"CSE\")\n",
        "      data[\"Branch\"].replace(to_replace=i,value=\"CSE\",inplace=True)\n",
        "\n",
        "  elif i.startswith(\"E\") and \"COMMUNICATION\" in i or i==\"ECE\":\n",
        "      # i=i.replace(i,\"ECE\")\n",
        "      data[\"Branch\"].replace(to_replace=i,value=\"ECE\",inplace=True)\n",
        "\n",
        "  elif i!=\"NAN\":\n",
        "      # i=i.replace(i,\"EEE\")\n",
        "      data[\"Branch\"].replace(to_replace=i,value=\"EEE\",inplace=True)\n",
        "\n",
        "  elif i==\"NAN\":\n",
        "      data[\"Branch\"].replace(to_replace=i,value=i.lower(),inplace=True)\n",
        "\n",
        "data"
      ],
      "metadata": {
        "colab": {
          "base_uri": "https://localhost:8080/",
          "height": 423
        },
        "id": "PyhuE0QWuWr_",
        "outputId": "3ba7548d-1e79-4c3a-9cc2-71b98b3abb86"
      },
      "execution_count": null,
      "outputs": [
        {
          "output_type": "execute_result",
          "data": {
            "text/plain": [
              "    Roll Number                         Name Branch  \\\n",
              "0    18981a0310              ABISHEK BAGADHI   MECH   \n",
              "1    18981A0503              Aditi Choudhary    CSE   \n",
              "2    18981a0504        Aishwarya Devarasetty    CSE   \n",
              "3    18981a0426                    AJAY DADI    EEE   \n",
              "4    19985a0407         Akanksha Naidu Galla    EEE   \n",
              "..          ...                          ...    ...   \n",
              "907  173J1A0564  KATTAMURI SAI SATYA SANJANA    CSE   \n",
              "908  173J1A0572          KRALETI RAGHAVENDRA    CSE   \n",
              "909  173J1A0575  KUTCHERLAPATI HIMA BHARGAVI    CSE   \n",
              "910  173J1A0580          MAHADASYAM PRIYANKA    CSE   \n",
              "911  173J1A0587               MATHA BHARGAVI    CSE   \n",
              "\n",
              "                           College   YOP Placement Status COMPANY  \n",
              "0        Raghu Engineering College  2022         SELECTED   WIPRO  \n",
              "1        Raghu Engineering College  2022         SELECTED   WIPRO  \n",
              "2        Raghu Engineering College  2022         SELECTED   WIPRO  \n",
              "3        Raghu Engineering College  2022         SELECTED   WIPRO  \n",
              "4        Raghu Engineering College  2022         SELECTED   WIPRO  \n",
              "..                             ...   ...              ...     ...  \n",
              "907  Raghu Institute of Technology  2021         SELECTED   CRMIT  \n",
              "908  Raghu Institute of Technology  2021         SELECTED   CRMIT  \n",
              "909  Raghu Institute of Technology  2021         SELECTED   CRMIT  \n",
              "910  Raghu Institute of Technology  2021         SELECTED   CRMIT  \n",
              "911  Raghu Institute of Technology  2021         SELECTED   CRMIT  \n",
              "\n",
              "[912 rows x 7 columns]"
            ],
            "text/html": [
              "\n",
              "  <div id=\"df-60aa9f83-292d-493a-9852-9ac368810272\">\n",
              "    <div class=\"colab-df-container\">\n",
              "      <div>\n",
              "<style scoped>\n",
              "    .dataframe tbody tr th:only-of-type {\n",
              "        vertical-align: middle;\n",
              "    }\n",
              "\n",
              "    .dataframe tbody tr th {\n",
              "        vertical-align: top;\n",
              "    }\n",
              "\n",
              "    .dataframe thead th {\n",
              "        text-align: right;\n",
              "    }\n",
              "</style>\n",
              "<table border=\"1\" class=\"dataframe\">\n",
              "  <thead>\n",
              "    <tr style=\"text-align: right;\">\n",
              "      <th></th>\n",
              "      <th>Roll Number</th>\n",
              "      <th>Name</th>\n",
              "      <th>Branch</th>\n",
              "      <th>College</th>\n",
              "      <th>YOP</th>\n",
              "      <th>Placement Status</th>\n",
              "      <th>COMPANY</th>\n",
              "    </tr>\n",
              "  </thead>\n",
              "  <tbody>\n",
              "    <tr>\n",
              "      <th>0</th>\n",
              "      <td>18981a0310</td>\n",
              "      <td>ABISHEK BAGADHI</td>\n",
              "      <td>MECH</td>\n",
              "      <td>Raghu Engineering College</td>\n",
              "      <td>2022</td>\n",
              "      <td>SELECTED</td>\n",
              "      <td>WIPRO</td>\n",
              "    </tr>\n",
              "    <tr>\n",
              "      <th>1</th>\n",
              "      <td>18981A0503</td>\n",
              "      <td>Aditi Choudhary</td>\n",
              "      <td>CSE</td>\n",
              "      <td>Raghu Engineering College</td>\n",
              "      <td>2022</td>\n",
              "      <td>SELECTED</td>\n",
              "      <td>WIPRO</td>\n",
              "    </tr>\n",
              "    <tr>\n",
              "      <th>2</th>\n",
              "      <td>18981a0504</td>\n",
              "      <td>Aishwarya Devarasetty</td>\n",
              "      <td>CSE</td>\n",
              "      <td>Raghu Engineering College</td>\n",
              "      <td>2022</td>\n",
              "      <td>SELECTED</td>\n",
              "      <td>WIPRO</td>\n",
              "    </tr>\n",
              "    <tr>\n",
              "      <th>3</th>\n",
              "      <td>18981a0426</td>\n",
              "      <td>AJAY DADI</td>\n",
              "      <td>EEE</td>\n",
              "      <td>Raghu Engineering College</td>\n",
              "      <td>2022</td>\n",
              "      <td>SELECTED</td>\n",
              "      <td>WIPRO</td>\n",
              "    </tr>\n",
              "    <tr>\n",
              "      <th>4</th>\n",
              "      <td>19985a0407</td>\n",
              "      <td>Akanksha Naidu Galla</td>\n",
              "      <td>EEE</td>\n",
              "      <td>Raghu Engineering College</td>\n",
              "      <td>2022</td>\n",
              "      <td>SELECTED</td>\n",
              "      <td>WIPRO</td>\n",
              "    </tr>\n",
              "    <tr>\n",
              "      <th>...</th>\n",
              "      <td>...</td>\n",
              "      <td>...</td>\n",
              "      <td>...</td>\n",
              "      <td>...</td>\n",
              "      <td>...</td>\n",
              "      <td>...</td>\n",
              "      <td>...</td>\n",
              "    </tr>\n",
              "    <tr>\n",
              "      <th>907</th>\n",
              "      <td>173J1A0564</td>\n",
              "      <td>KATTAMURI SAI SATYA SANJANA</td>\n",
              "      <td>CSE</td>\n",
              "      <td>Raghu Institute of Technology</td>\n",
              "      <td>2021</td>\n",
              "      <td>SELECTED</td>\n",
              "      <td>CRMIT</td>\n",
              "    </tr>\n",
              "    <tr>\n",
              "      <th>908</th>\n",
              "      <td>173J1A0572</td>\n",
              "      <td>KRALETI RAGHAVENDRA</td>\n",
              "      <td>CSE</td>\n",
              "      <td>Raghu Institute of Technology</td>\n",
              "      <td>2021</td>\n",
              "      <td>SELECTED</td>\n",
              "      <td>CRMIT</td>\n",
              "    </tr>\n",
              "    <tr>\n",
              "      <th>909</th>\n",
              "      <td>173J1A0575</td>\n",
              "      <td>KUTCHERLAPATI HIMA BHARGAVI</td>\n",
              "      <td>CSE</td>\n",
              "      <td>Raghu Institute of Technology</td>\n",
              "      <td>2021</td>\n",
              "      <td>SELECTED</td>\n",
              "      <td>CRMIT</td>\n",
              "    </tr>\n",
              "    <tr>\n",
              "      <th>910</th>\n",
              "      <td>173J1A0580</td>\n",
              "      <td>MAHADASYAM PRIYANKA</td>\n",
              "      <td>CSE</td>\n",
              "      <td>Raghu Institute of Technology</td>\n",
              "      <td>2021</td>\n",
              "      <td>SELECTED</td>\n",
              "      <td>CRMIT</td>\n",
              "    </tr>\n",
              "    <tr>\n",
              "      <th>911</th>\n",
              "      <td>173J1A0587</td>\n",
              "      <td>MATHA BHARGAVI</td>\n",
              "      <td>CSE</td>\n",
              "      <td>Raghu Institute of Technology</td>\n",
              "      <td>2021</td>\n",
              "      <td>SELECTED</td>\n",
              "      <td>CRMIT</td>\n",
              "    </tr>\n",
              "  </tbody>\n",
              "</table>\n",
              "<p>912 rows × 7 columns</p>\n",
              "</div>\n",
              "      <button class=\"colab-df-convert\" onclick=\"convertToInteractive('df-60aa9f83-292d-493a-9852-9ac368810272')\"\n",
              "              title=\"Convert this dataframe to an interactive table.\"\n",
              "              style=\"display:none;\">\n",
              "        \n",
              "  <svg xmlns=\"http://www.w3.org/2000/svg\" height=\"24px\"viewBox=\"0 0 24 24\"\n",
              "       width=\"24px\">\n",
              "    <path d=\"M0 0h24v24H0V0z\" fill=\"none\"/>\n",
              "    <path d=\"M18.56 5.44l.94 2.06.94-2.06 2.06-.94-2.06-.94-.94-2.06-.94 2.06-2.06.94zm-11 1L8.5 8.5l.94-2.06 2.06-.94-2.06-.94L8.5 2.5l-.94 2.06-2.06.94zm10 10l.94 2.06.94-2.06 2.06-.94-2.06-.94-.94-2.06-.94 2.06-2.06.94z\"/><path d=\"M17.41 7.96l-1.37-1.37c-.4-.4-.92-.59-1.43-.59-.52 0-1.04.2-1.43.59L10.3 9.45l-7.72 7.72c-.78.78-.78 2.05 0 2.83L4 21.41c.39.39.9.59 1.41.59.51 0 1.02-.2 1.41-.59l7.78-7.78 2.81-2.81c.8-.78.8-2.07 0-2.86zM5.41 20L4 18.59l7.72-7.72 1.47 1.35L5.41 20z\"/>\n",
              "  </svg>\n",
              "      </button>\n",
              "      \n",
              "  <style>\n",
              "    .colab-df-container {\n",
              "      display:flex;\n",
              "      flex-wrap:wrap;\n",
              "      gap: 12px;\n",
              "    }\n",
              "\n",
              "    .colab-df-convert {\n",
              "      background-color: #E8F0FE;\n",
              "      border: none;\n",
              "      border-radius: 50%;\n",
              "      cursor: pointer;\n",
              "      display: none;\n",
              "      fill: #1967D2;\n",
              "      height: 32px;\n",
              "      padding: 0 0 0 0;\n",
              "      width: 32px;\n",
              "    }\n",
              "\n",
              "    .colab-df-convert:hover {\n",
              "      background-color: #E2EBFA;\n",
              "      box-shadow: 0px 1px 2px rgba(60, 64, 67, 0.3), 0px 1px 3px 1px rgba(60, 64, 67, 0.15);\n",
              "      fill: #174EA6;\n",
              "    }\n",
              "\n",
              "    [theme=dark] .colab-df-convert {\n",
              "      background-color: #3B4455;\n",
              "      fill: #D2E3FC;\n",
              "    }\n",
              "\n",
              "    [theme=dark] .colab-df-convert:hover {\n",
              "      background-color: #434B5C;\n",
              "      box-shadow: 0px 1px 3px 1px rgba(0, 0, 0, 0.15);\n",
              "      filter: drop-shadow(0px 1px 2px rgba(0, 0, 0, 0.3));\n",
              "      fill: #FFFFFF;\n",
              "    }\n",
              "  </style>\n",
              "\n",
              "      <script>\n",
              "        const buttonEl =\n",
              "          document.querySelector('#df-60aa9f83-292d-493a-9852-9ac368810272 button.colab-df-convert');\n",
              "        buttonEl.style.display =\n",
              "          google.colab.kernel.accessAllowed ? 'block' : 'none';\n",
              "\n",
              "        async function convertToInteractive(key) {\n",
              "          const element = document.querySelector('#df-60aa9f83-292d-493a-9852-9ac368810272');\n",
              "          const dataTable =\n",
              "            await google.colab.kernel.invokeFunction('convertToInteractive',\n",
              "                                                     [key], {});\n",
              "          if (!dataTable) return;\n",
              "\n",
              "          const docLinkHtml = 'Like what you see? Visit the ' +\n",
              "            '<a target=\"_blank\" href=https://colab.research.google.com/notebooks/data_table.ipynb>data table notebook</a>'\n",
              "            + ' to learn more about interactive tables.';\n",
              "          element.innerHTML = '';\n",
              "          dataTable['output_type'] = 'display_data';\n",
              "          await google.colab.output.renderOutput(dataTable, element);\n",
              "          const docLink = document.createElement('div');\n",
              "          docLink.innerHTML = docLinkHtml;\n",
              "          element.appendChild(docLink);\n",
              "        }\n",
              "      </script>\n",
              "    </div>\n",
              "  </div>\n",
              "  "
            ]
          },
          "metadata": {},
          "execution_count": 6
        }
      ]
    },
    {
      "cell_type": "markdown",
      "source": [
        "#FILLING NA VALUES AND CHANGING INDEX"
      ],
      "metadata": {
        "id": "nDnGnE_NKssp"
      }
    },
    {
      "cell_type": "code",
      "source": [
        "df1=data.fillna(method=\"ffill\",axis=\"columns\") #or axis=1 for columns and axis=0 for rows"
      ],
      "metadata": {
        "id": "js6IUEQUKsBw"
      },
      "execution_count": null,
      "outputs": []
    },
    {
      "cell_type": "code",
      "source": [
        "df1.info()"
      ],
      "metadata": {
        "id": "gQNi2nbHLuJp"
      },
      "execution_count": null,
      "outputs": []
    },
    {
      "cell_type": "markdown",
      "source": [
        "CHANGING INDEX:"
      ],
      "metadata": {
        "id": "AWmZb9A9Qn2_"
      }
    },
    {
      "cell_type": "code",
      "source": [
        "a = np.arange(1,len(data[\"Branch\"])+1)\n",
        "df1.index=a\n",
        "df1"
      ],
      "metadata": {
        "id": "SajIZuJbPeXh"
      },
      "execution_count": null,
      "outputs": []
    },
    {
      "cell_type": "markdown",
      "source": [
        "#EXPORTING DATA TO EXCEL 👇"
      ],
      "metadata": {
        "id": "C0JAbf2AvE3L"
      }
    },
    {
      "cell_type": "code",
      "source": [
        "df1.to_excel(\"new.xlsx\")"
      ],
      "metadata": {
        "id": "r2neGMsfvBzS"
      },
      "execution_count": null,
      "outputs": []
    },
    {
      "cell_type": "markdown",
      "source": [
        "#ROUGH 👇"
      ],
      "metadata": {
        "id": "Na5Wh6Ie05F6"
      }
    },
    {
      "cell_type": "code",
      "source": [
        "import re\n",
        "\n",
        "txt = \"The rain in Spain\"\n",
        "x = re.sub(\"\\s\", \"9\", txt)\n",
        "print(x)\n",
        "# [a-zA-Z]"
      ],
      "metadata": {
        "colab": {
          "base_uri": "https://localhost:8080/"
        },
        "id": "wAJ7FiXkoNPg",
        "outputId": "1807316b-fc98-4e4c-c185-03b9ee8a7fe6"
      },
      "execution_count": null,
      "outputs": [
        {
          "output_type": "stream",
          "name": "stdout",
          "text": [
            "The9rain9in9Spain\n"
          ]
        }
      ]
    },
    {
      "cell_type": "code",
      "source": [
        "text=\"hello world 983\"\n",
        "# df['column'] = [re.sub('(\\\\d)\\\\s+', '\\\\1', (x.upper())) for x in df['column']]\n",
        "# \"\\d\"\n",
        "\n",
        "# d=re.sub(\"\\d\",\"\\s\".upper(),text)\n",
        "\n",
        "# x = re.search(\"\\s\", text)\n",
        "\n",
        "# y=re.sub(text,text.replace('\\s',),text)\n",
        "\n",
        "y = re.search(\"\\d\",text.upper(),text)\n",
        "\n",
        "x = re.search(\"\\s\", text)\n",
        "\n",
        "print(y)\n",
        "\n"
      ],
      "metadata": {
        "id": "BWCSKSd_m_KT"
      },
      "execution_count": null,
      "outputs": []
    },
    {
      "cell_type": "code",
      "source": [
        "import re\n",
        "\n",
        "txt = \"The rain in Spain\"\n",
        "x = re.search(\"\\s\", txt)\n",
        "\n",
        "print(\"The first white-space character is located in position:\", x.start())"
      ],
      "metadata": {
        "colab": {
          "base_uri": "https://localhost:8080/"
        },
        "id": "d7yoQ4wLnR9W",
        "outputId": "99efaa54-2039-4242-efbb-a71dbd1c69b7"
      },
      "execution_count": null,
      "outputs": [
        {
          "output_type": "stream",
          "name": "stdout",
          "text": [
            "The first white-space character is located in position: 3\n"
          ]
        }
      ]
    },
    {
      "cell_type": "code",
      "execution_count": null,
      "metadata": {
        "id": "qM-xRnB8aRzo"
      },
      "outputs": [],
      "source": [
        "df[\"column1\"].replace({\"a\": \"x\", \"b\": \"y\"}, inplace=True)\n",
        "df = pd.DataFrame({\"column1\": [\"a\", \"b\", \"a\"]})"
      ]
    },
    {
      "cell_type": "code",
      "source": [
        "da = range(1,len(data[\"Branch\"]))\n",
        "\n",
        "print(da)\n",
        "\n",
        "a = np.arange(1,len(data[\"Branch\"]))\n",
        "\n",
        "print(len(a))"
      ],
      "metadata": {
        "colab": {
          "base_uri": "https://localhost:8080/"
        },
        "id": "pdSMf5z8OrBo",
        "outputId": "2c2cde5c-2c02-4384-8b51-616475d64030"
      },
      "execution_count": null,
      "outputs": [
        {
          "output_type": "stream",
          "name": "stdout",
          "text": [
            "range(1, 912)\n",
            "911\n"
          ]
        }
      ]
    }
  ],
  "metadata": {
    "colab": {
      "name": "RAGHU PLACEMENTS 2022.ipynb",
      "provenance": [],
      "collapsed_sections": [
        "tv2ZAVUCxCiD",
        "rjYFkbjzw4fT",
        "bd6UtrY81GlC",
        "QGaRW_35xlGe",
        "wu1CroHGLzy9",
        "nDnGnE_NKssp",
        "C0JAbf2AvE3L",
        "Na5Wh6Ie05F6"
      ]
    },
    "kernelspec": {
      "display_name": "Python 3",
      "name": "python3"
    },
    "language_info": {
      "name": "python"
    }
  },
  "nbformat": 4,
  "nbformat_minor": 0
}